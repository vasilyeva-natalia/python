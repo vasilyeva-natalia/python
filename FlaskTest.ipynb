{
  "nbformat": 4,
  "nbformat_minor": 0,
  "metadata": {
    "colab": {
      "name": "FlaskTest.ipynb",
      "provenance": [],
      "collapsed_sections": []
    },
    "kernelspec": {
      "name": "python3",
      "display_name": "Python 3"
    },
    "language_info": {
      "name": "python"
    }
  },
  "cells": [
    {
      "cell_type": "code",
      "metadata": {
        "id": "BzOiZU30a3-l"
      },
      "source": [
        "SERV_URL = 'http://impersonalis.pythonanywhere.com/'"
      ],
      "execution_count": 1,
      "outputs": []
    },
    {
      "cell_type": "code",
      "metadata": {
        "id": "De1egwmst-2T"
      },
      "source": [
        "import requests"
      ],
      "execution_count": 2,
      "outputs": []
    },
    {
      "cell_type": "markdown",
      "metadata": {
        "id": "j2vIM0i4iqKQ"
      },
      "source": [
        "#### Проверим работу удалённого сервиса"
      ]
    },
    {
      "cell_type": "code",
      "metadata": {
        "colab": {
          "base_uri": "https://localhost:8080/",
          "height": 35
        },
        "id": "BUnRa3bgiqVv",
        "outputId": "72be79bb-f677-46bf-f419-ee59be1a6e8a"
      },
      "source": [
        "r = requests.get(SERV_URL+'test')\n",
        "r.text"
      ],
      "execution_count": 3,
      "outputs": [
        {
          "output_type": "execute_result",
          "data": {
            "application/vnd.google.colaboratory.intrinsic+json": {
              "type": "string"
            },
            "text/plain": [
              "\"app is run! Server's time is [2021-10-21 22:08:54.497313]\""
            ]
          },
          "metadata": {},
          "execution_count": 3
        }
      ]
    },
    {
      "cell_type": "markdown",
      "metadata": {
        "id": "Eq7VcdeJbYpQ"
      },
      "source": [
        "# Обзор доступных классов моделей"
      ]
    },
    {
      "cell_type": "code",
      "metadata": {
        "colab": {
          "base_uri": "https://localhost:8080/"
        },
        "id": "XXwwy32gbeeG",
        "outputId": "8161f06c-9f7c-4dcf-b40a-d9a6ea01f20b"
      },
      "source": [
        "r = requests.get(SERV_URL+'classes')\n",
        "r.json()"
      ],
      "execution_count": 4,
      "outputs": [
        {
          "output_type": "execute_result",
          "data": {
            "text/plain": [
              "['LogReg', 'RandomForest', 'ExtraTrees']"
            ]
          },
          "metadata": {},
          "execution_count": 4
        }
      ]
    },
    {
      "cell_type": "markdown",
      "metadata": {
        "id": "sJeLHiFwbwkP"
      },
      "source": [
        "# Обзор уже имеющихся моделей"
      ]
    },
    {
      "cell_type": "code",
      "metadata": {
        "colab": {
          "base_uri": "https://localhost:8080/"
        },
        "id": "Pztcr5EAb3CN",
        "outputId": "60e54fd1-da4d-4199-9e0a-c7356801a5a3"
      },
      "source": [
        "r = requests.get(SERV_URL+'models')\n",
        "r.json()"
      ],
      "execution_count": 5,
      "outputs": [
        {
          "output_type": "execute_result",
          "data": {
            "text/plain": [
              "[{'is_fitted': False,\n",
              "  'name': 'default_model_for_tests',\n",
              "  'params': {'random_state': 0},\n",
              "  'type': 'LogReg',\n",
              "  'uid': 1}]"
            ]
          },
          "metadata": {},
          "execution_count": 5
        }
      ]
    },
    {
      "cell_type": "markdown",
      "metadata": {
        "id": "NNtNPgJab-oA"
      },
      "source": [
        "# Создание новой модели"
      ]
    },
    {
      "cell_type": "code",
      "metadata": {
        "colab": {
          "base_uri": "https://localhost:8080/"
        },
        "id": "bYXMEPDtcJTQ",
        "outputId": "0b733314-cb47-4ce8-ab21-d0042ea7257f"
      },
      "source": [
        "r = requests.post(SERV_URL+'models', json={'type': 'LogReg'})\n",
        "ans = r.json()\n",
        "my_current_model_id = ans['uid']\n",
        "print(ans)"
      ],
      "execution_count": 6,
      "outputs": [
        {
          "output_type": "stream",
          "name": "stdout",
          "text": [
            "{'is_fitted': False, 'name': 'default_model_for_tests', 'params': {'random_state': 0}, 'type': 'LogReg', 'uid': 2}\n"
          ]
        }
      ]
    },
    {
      "cell_type": "markdown",
      "metadata": {
        "id": "78ijZ7alcgDL"
      },
      "source": [
        "#### Забыли указать имя (для удобства) и ГП - обновляем параметры"
      ]
    },
    {
      "cell_type": "code",
      "metadata": {
        "id": "AlpI5UkqrcoX"
      },
      "source": [
        "r = requests.put(SERV_URL+'models/100500', json={'name':'my_log_reg_clf', 'params':{'random_state': 42}})\n",
        "r.json()"
      ],
      "execution_count": 7,
      "outputs": []
    },
    {
      "cell_type": "markdown",
      "metadata": {
        "id": "azaRep30rlzn"
      },
      "source": [
        "###### В случае успеха возвращается новое описание модели. Описания нет, так как мы ошиблись и указали несущетсвующий UID. Попробуем ещё раз"
      ]
    },
    {
      "cell_type": "code",
      "metadata": {
        "colab": {
          "base_uri": "https://localhost:8080/"
        },
        "id": "zRIApdkocrUe",
        "outputId": "28b5c81a-23df-4d3b-abac-00c9066637b7"
      },
      "source": [
        "r = requests.put(SERV_URL+'models/'+str(my_current_model_id), json={'name':'my_log_reg_clf', 'params':{'random_state': 42}})\n",
        "r.json()"
      ],
      "execution_count": 8,
      "outputs": [
        {
          "output_type": "execute_result",
          "data": {
            "text/plain": [
              "{'is_fitted': False,\n",
              " 'name': 'my_log_reg_clf',\n",
              " 'params': {'random_state': 42},\n",
              " 'type': 'LogReg',\n",
              " 'uid': 2}"
            ]
          },
          "metadata": {},
          "execution_count": 8
        }
      ]
    },
    {
      "cell_type": "markdown",
      "metadata": {
        "id": "HThoyk7zfUNt"
      },
      "source": [
        "# Ещё раз взглянем на список существующих моделей"
      ]
    },
    {
      "cell_type": "code",
      "metadata": {
        "colab": {
          "base_uri": "https://localhost:8080/"
        },
        "id": "suo9vhpNfSw4",
        "outputId": "2dfdf6cc-091c-46a9-82c7-ad9d0e1e9317"
      },
      "source": [
        "r = requests.get(SERV_URL+'models')\n",
        "r.json()"
      ],
      "execution_count": 9,
      "outputs": [
        {
          "output_type": "execute_result",
          "data": {
            "text/plain": [
              "[{'is_fitted': False,\n",
              "  'name': 'default_model_for_tests',\n",
              "  'params': {'random_state': 0},\n",
              "  'type': 'LogReg',\n",
              "  'uid': 1},\n",
              " {'is_fitted': False,\n",
              "  'name': 'my_log_reg_clf',\n",
              "  'params': {'random_state': 42},\n",
              "  'type': 'LogReg',\n",
              "  'uid': 2}]"
            ]
          },
          "metadata": {},
          "execution_count": 9
        }
      ]
    },
    {
      "cell_type": "markdown",
      "metadata": {
        "id": "A5-P-2tyfhS-"
      },
      "source": [
        "# Удалим ненужную модель"
      ]
    },
    {
      "cell_type": "code",
      "metadata": {
        "colab": {
          "base_uri": "https://localhost:8080/"
        },
        "id": "JFhrHVIKffsP",
        "outputId": "e2272ad1-1634-434c-bfe9-f842b97a6e8f"
      },
      "source": [
        "r = requests.delete(SERV_URL+'models/1')\n",
        "print('Удаление успешно?', r.text)\n",
        "r = requests.get(SERV_URL+'models')\n",
        "r.json()"
      ],
      "execution_count": 10,
      "outputs": [
        {
          "output_type": "stream",
          "name": "stdout",
          "text": [
            "Удаление успешно? \"True\"\n",
            "\n"
          ]
        },
        {
          "output_type": "execute_result",
          "data": {
            "text/plain": [
              "[{'is_fitted': False,\n",
              "  'name': 'my_log_reg_clf',\n",
              "  'params': {'random_state': 42},\n",
              "  'type': 'LogReg',\n",
              "  'uid': 2}]"
            ]
          },
          "metadata": {},
          "execution_count": 10
        }
      ]
    },
    {
      "cell_type": "markdown",
      "metadata": {
        "id": "cj481UAbf94N"
      },
      "source": [
        "# Обучим модель"
      ]
    },
    {
      "cell_type": "code",
      "metadata": {
        "id": "Wweuls7n-gWH"
      },
      "source": [
        "import numpy as np"
      ],
      "execution_count": 11,
      "outputs": []
    },
    {
      "cell_type": "markdown",
      "metadata": {
        "id": "9GAzRiBkgmMq"
      },
      "source": [
        "#### Возьмём тестовый датасет"
      ]
    },
    {
      "cell_type": "code",
      "metadata": {
        "id": "-AR_IynpgB80"
      },
      "source": [
        "from sklearn.datasets import load_iris"
      ],
      "execution_count": 12,
      "outputs": []
    },
    {
      "cell_type": "code",
      "metadata": {
        "id": "uMH4HumLgu5y"
      },
      "source": [
        "X, y = load_iris(return_X_y=True)"
      ],
      "execution_count": 13,
      "outputs": []
    },
    {
      "cell_type": "code",
      "metadata": {
        "id": "SAkPHH55hsCd"
      },
      "source": [
        "data = {\n",
        "    'x':[[float(v) for v in row] for row in X],\n",
        "    'y':[int(v) for v in y]\n",
        "}"
      ],
      "execution_count": 14,
      "outputs": []
    },
    {
      "cell_type": "markdown",
      "metadata": {
        "id": "sfCE5DWLhiJB"
      },
      "source": [
        "#### Обучение"
      ]
    },
    {
      "cell_type": "code",
      "metadata": {
        "colab": {
          "base_uri": "https://localhost:8080/",
          "height": 35
        },
        "id": "oYjXxe6EPT76",
        "outputId": "9eab71be-443f-4062-f5ac-d66f56a523cc"
      },
      "source": [
        "r = requests.put(SERV_URL+'models/100500/fit', json=data)\n",
        "r.text"
      ],
      "execution_count": 15,
      "outputs": [
        {
          "output_type": "execute_result",
          "data": {
            "application/vnd.google.colaboratory.intrinsic+json": {
              "type": "string"
            },
            "text/plain": [
              "'Wrong model`s UID (100500)'"
            ]
          },
          "metadata": {},
          "execution_count": 15
        }
      ]
    },
    {
      "cell_type": "markdown",
      "metadata": {
        "id": "Mdk1svjyPYw4"
      },
      "source": [
        "###### ой, ошиблись с uid модели"
      ]
    },
    {
      "cell_type": "code",
      "metadata": {
        "colab": {
          "base_uri": "https://localhost:8080/",
          "height": 35
        },
        "id": "NVJzuNNKgvGs",
        "outputId": "2b7a36c3-6271-4e82-a4df-221f2ed46e0d"
      },
      "source": [
        "r = requests.put(SERV_URL+'models/'+str(my_current_model_id)+'/fit', json=data)\n",
        "r.text"
      ],
      "execution_count": 16,
      "outputs": [
        {
          "output_type": "execute_result",
          "data": {
            "application/vnd.google.colaboratory.intrinsic+json": {
              "type": "string"
            },
            "text/plain": [
              "'fitted model with uid 2'"
            ]
          },
          "metadata": {},
          "execution_count": 16
        }
      ]
    },
    {
      "cell_type": "markdown",
      "metadata": {
        "id": "BM5o_TZV2CvY"
      },
      "source": [
        "#### Посмотрим состояние моделей"
      ]
    },
    {
      "cell_type": "code",
      "metadata": {
        "colab": {
          "base_uri": "https://localhost:8080/"
        },
        "id": "yeoaCvozgvJn",
        "outputId": "a476c707-2834-41f1-ea18-ad85064172d6"
      },
      "source": [
        "r = requests.get(SERV_URL+'models')\n",
        "r.json()"
      ],
      "execution_count": 17,
      "outputs": [
        {
          "output_type": "execute_result",
          "data": {
            "text/plain": [
              "[{'is_fitted': True,\n",
              "  'name': 'my_log_reg_clf',\n",
              "  'params': {'random_state': 42},\n",
              "  'type': 'LogReg',\n",
              "  'uid': 2}]"
            ]
          },
          "metadata": {},
          "execution_count": 17
        }
      ]
    },
    {
      "cell_type": "markdown",
      "metadata": {
        "id": "KKxyI9Ws2Nch"
      },
      "source": [
        "# Применим классификатор"
      ]
    },
    {
      "cell_type": "markdown",
      "metadata": {
        "id": "06eJTnhx2XOc"
      },
      "source": [
        "#### Возьмём всё ту же обучающую выборку"
      ]
    },
    {
      "cell_type": "code",
      "metadata": {
        "id": "8T1w3PnP2Mrx"
      },
      "source": [
        "X, y = load_iris(return_X_y=True)"
      ],
      "execution_count": 18,
      "outputs": []
    },
    {
      "cell_type": "code",
      "metadata": {
        "id": "Ykoj-Zvi2MvD"
      },
      "source": [
        "data = {\n",
        "    'x':[[float(v) for v in row] for row in X],\n",
        "    'proba':int(True)\n",
        "}"
      ],
      "execution_count": 19,
      "outputs": []
    },
    {
      "cell_type": "markdown",
      "metadata": {
        "id": "hNGwxlZV2o1L"
      },
      "source": [
        "#### Прогноз"
      ]
    },
    {
      "cell_type": "code",
      "metadata": {
        "id": "2mDR967L2MzP"
      },
      "source": [
        "r = requests.post(SERV_URL+'models/'+str(my_current_model_id)+'/predict', json=data)"
      ],
      "execution_count": 20,
      "outputs": []
    },
    {
      "cell_type": "code",
      "metadata": {
        "colab": {
          "base_uri": "https://localhost:8080/"
        },
        "id": "xns5obBb2u5b",
        "outputId": "5a2d00e3-a362-4f2f-c961-8240b9720ede"
      },
      "source": [
        "ans = r.json()\n",
        "preds = np.array(ans['x']).reshape(ans['shape'])\n",
        "preds[:5]"
      ],
      "execution_count": 21,
      "outputs": [
        {
          "output_type": "execute_result",
          "data": {
            "text/plain": [
              "array([[8.78030305e-01, 1.21958900e-01, 1.07949250e-05],\n",
              "       [7.97058292e-01, 2.02911413e-01, 3.02949242e-05],\n",
              "       [8.51997665e-01, 1.47976480e-01, 2.58550858e-05],\n",
              "       [8.23406019e-01, 1.76536159e-01, 5.78217704e-05],\n",
              "       [8.96034973e-01, 1.03953836e-01, 1.11907339e-05]])"
            ]
          },
          "metadata": {},
          "execution_count": 21
        }
      ]
    },
    {
      "cell_type": "markdown",
      "metadata": {
        "id": "oTDcU5rrIzFr"
      },
      "source": [
        "#### Оценим качество"
      ]
    },
    {
      "cell_type": "code",
      "metadata": {
        "id": "KBRtrGw0IItC"
      },
      "source": [
        "from sklearn.metrics import accuracy_score"
      ],
      "execution_count": 22,
      "outputs": []
    },
    {
      "cell_type": "code",
      "metadata": {
        "id": "6ox1dJdfIIwk"
      },
      "source": [
        "data = {\n",
        "    'x':[[float(v) for v in row] for row in X],\n",
        "    'proba':int(False)\n",
        "}"
      ],
      "execution_count": 23,
      "outputs": []
    },
    {
      "cell_type": "code",
      "metadata": {
        "id": "9OMFV5nkI5d3"
      },
      "source": [
        "r = requests.post(SERV_URL+'models/'+str(my_current_model_id)+'/predict', json=data)"
      ],
      "execution_count": 24,
      "outputs": []
    },
    {
      "cell_type": "code",
      "metadata": {
        "colab": {
          "base_uri": "https://localhost:8080/"
        },
        "id": "NPkQOkaVI5h4",
        "outputId": "1abf46a9-2988-43ae-8ac0-b8fd43da8218"
      },
      "source": [
        "ans = r.json()\n",
        "preds = np.array(ans['x']).reshape(ans['shape'])\n",
        "preds[:5]"
      ],
      "execution_count": 25,
      "outputs": [
        {
          "output_type": "execute_result",
          "data": {
            "text/plain": [
              "array([0., 0., 0., 0., 0.])"
            ]
          },
          "metadata": {},
          "execution_count": 25
        }
      ]
    },
    {
      "cell_type": "code",
      "metadata": {
        "colab": {
          "base_uri": "https://localhost:8080/"
        },
        "id": "kKiqtFeZI5lx",
        "outputId": "abfad82b-fe36-4097-f6a1-242bcfe1f40a"
      },
      "source": [
        "accuracy_score(y, preds)"
      ],
      "execution_count": 26,
      "outputs": [
        {
          "output_type": "execute_result",
          "data": {
            "text/plain": [
              "0.96"
            ]
          },
          "metadata": {},
          "execution_count": 26
        }
      ]
    }
  ]
}