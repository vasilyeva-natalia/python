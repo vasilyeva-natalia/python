{
  "nbformat": 4,
  "nbformat_minor": 0,
  "metadata": {
    "colab": {
      "name": "FlaskTest.ipynb",
      "provenance": [],
      "collapsed_sections": []
    },
    "kernelspec": {
      "name": "python3",
      "display_name": "Python 3"
    },
    "language_info": {
      "name": "python"
    }
  },
  "cells": [
    {
      "cell_type": "markdown",
      "metadata": {
        "id": "vnYychPFu-0_"
      },
      "source": [
        "В облаке развернут сервис, реализованны на flask и представляющий следующие возможности:\n",
        "* Обучение разных архитектур ml-моделей: поддерживаются линейные и ансамблевые модели (Random Forest и Extra Trees) как для задачи классификации, так и для задачи регрессии. Пользователь самостоятельно специфицирует архитектуру алгоритма с соответствущим типом решаемой задачи.\n",
        "* Возвращение предсказаний по моделям.\n",
        "* Возвращение списка доступных для обучения классов моделей.\n",
        "* Обучение заново и удаление уже обученных моделей.\n"
      ]
    },
    {
      "cell_type": "code",
      "metadata": {
        "id": "BzOiZU30a3-l"
      },
      "source": [
        "SERV_URL = 'http://nataliav.pythonanywhere.com/'\n",
        "# Для создания web-приложения используется pythonanywhere.com"
      ],
      "execution_count": 29,
      "outputs": []
    },
    {
      "cell_type": "code",
      "metadata": {
        "id": "De1egwmst-2T"
      },
      "source": [
        "import requests"
      ],
      "execution_count": 2,
      "outputs": []
    },
    {
      "cell_type": "markdown",
      "metadata": {
        "id": "j2vIM0i4iqKQ"
      },
      "source": [
        "#### Проверка работы удалённого сервиса"
      ]
    },
    {
      "cell_type": "code",
      "metadata": {
        "colab": {
          "base_uri": "https://localhost:8080/",
          "height": 35
        },
        "id": "BUnRa3bgiqVv",
        "outputId": "3e18a01a-f27c-4ab7-dc84-3e23706283d3"
      },
      "source": [
        "r = requests.get(SERV_URL+'test')\n",
        "r.text"
      ],
      "execution_count": 3,
      "outputs": [
        {
          "output_type": "execute_result",
          "data": {
            "application/vnd.google.colaboratory.intrinsic+json": {
              "type": "string"
            },
            "text/plain": [
              "\"app is run! Server's time is [2021-10-27 23:39:08.807255]\""
            ]
          },
          "metadata": {},
          "execution_count": 3
        }
      ]
    },
    {
      "cell_type": "markdown",
      "metadata": {
        "id": "Eq7VcdeJbYpQ"
      },
      "source": [
        "# Обзор доступных классов моделей"
      ]
    },
    {
      "cell_type": "code",
      "metadata": {
        "colab": {
          "base_uri": "https://localhost:8080/"
        },
        "id": "XXwwy32gbeeG",
        "outputId": "94a348b0-e9e4-40b1-8346-f82f931238bc"
      },
      "source": [
        "r = requests.get(SERV_URL+'classes')\n",
        "r.json()"
      ],
      "execution_count": 4,
      "outputs": [
        {
          "output_type": "execute_result",
          "data": {
            "text/plain": [
              "['RandomForestClassifier',\n",
              " 'RandomForestRegressor',\n",
              " 'ExtraTreesClassifier',\n",
              " 'ExtraTreesRegressor',\n",
              " 'LogReg',\n",
              " 'LinReg']"
            ]
          },
          "metadata": {},
          "execution_count": 4
        }
      ]
    },
    {
      "cell_type": "markdown",
      "metadata": {
        "id": "sJeLHiFwbwkP"
      },
      "source": [
        "# Обзор уже имеющихся моделей"
      ]
    },
    {
      "cell_type": "code",
      "metadata": {
        "colab": {
          "base_uri": "https://localhost:8080/"
        },
        "id": "Pztcr5EAb3CN",
        "outputId": "c2a21cf6-db17-40d0-8843-f0fdc4b881d8"
      },
      "source": [
        "r = requests.get(SERV_URL+'models')\n",
        "r.json()"
      ],
      "execution_count": 5,
      "outputs": [
        {
          "output_type": "execute_result",
          "data": {
            "text/plain": [
              "[{'hyper_params': {'random_state': 0},\n",
              "  'is_fitted': False,\n",
              "  'name': 'default_model_for_tests',\n",
              "  'type': 'RandomForestClassifier',\n",
              "  'uid': 1}]"
            ]
          },
          "metadata": {},
          "execution_count": 5
        }
      ]
    },
    {
      "cell_type": "markdown",
      "metadata": {
        "id": "NNtNPgJab-oA"
      },
      "source": [
        "# Создание новой модели"
      ]
    },
    {
      "cell_type": "code",
      "metadata": {
        "colab": {
          "base_uri": "https://localhost:8080/"
        },
        "id": "bYXMEPDtcJTQ",
        "outputId": "88f321d6-3971-47e6-f01b-041a45937452"
      },
      "source": [
        "r = requests.post(SERV_URL+'models', json={'type': 'LogReg'})\n",
        "ans = r.json()\n",
        "my_current_model_id = ans['uid']\n",
        "print(ans)"
      ],
      "execution_count": 6,
      "outputs": [
        {
          "output_type": "stream",
          "name": "stdout",
          "text": [
            "{'hyper_params': {'random_state': 0}, 'is_fitted': False, 'name': 'default_model_for_tests', 'type': 'LogReg', 'uid': 2}\n"
          ]
        }
      ]
    },
    {
      "cell_type": "markdown",
      "metadata": {
        "id": "78ijZ7alcgDL"
      },
      "source": [
        "#### Забыли указать имя и ГП - обновляем параметры (для удобства)"
      ]
    },
    {
      "cell_type": "code",
      "metadata": {
        "id": "AlpI5UkqrcoX"
      },
      "source": [
        "r = requests.put(SERV_URL+'models/15', json={'name':'my_log_reg_clf', 'hyper_params':{'random_state': 42}})\n",
        "r.json()"
      ],
      "execution_count": 8,
      "outputs": []
    },
    {
      "cell_type": "markdown",
      "metadata": {
        "id": "azaRep30rlzn"
      },
      "source": [
        "###### В случае успеха возвращается новое описание модели. Описания нет, так как мы ошиблись и указали несущетсвующий UID. Попробуем ещё раз"
      ]
    },
    {
      "cell_type": "code",
      "metadata": {
        "colab": {
          "base_uri": "https://localhost:8080/"
        },
        "id": "zRIApdkocrUe",
        "outputId": "9b4f7956-afc6-4006-fcfd-9fcb944f80e9"
      },
      "source": [
        "r = requests.put(SERV_URL+'models/'+str(my_current_model_id), json={'name':'my_log_reg_clf', 'hyper_params':{'random_state': 42}})\n",
        "r.json()"
      ],
      "execution_count": 9,
      "outputs": [
        {
          "output_type": "execute_result",
          "data": {
            "text/plain": [
              "{'hyper_params': {'random_state': 42},\n",
              " 'is_fitted': False,\n",
              " 'name': 'my_log_reg_clf',\n",
              " 'type': 'LogReg',\n",
              " 'uid': 2}"
            ]
          },
          "metadata": {},
          "execution_count": 9
        }
      ]
    },
    {
      "cell_type": "markdown",
      "metadata": {
        "id": "HThoyk7zfUNt"
      },
      "source": [
        "# Ещё раз взглянем на список существующих моделей"
      ]
    },
    {
      "cell_type": "code",
      "metadata": {
        "colab": {
          "base_uri": "https://localhost:8080/"
        },
        "id": "suo9vhpNfSw4",
        "outputId": "e9eaa981-a7d3-4eaf-9ded-306560603255"
      },
      "source": [
        "r = requests.get(SERV_URL+'models')\n",
        "r.json()"
      ],
      "execution_count": 11,
      "outputs": [
        {
          "output_type": "execute_result",
          "data": {
            "text/plain": [
              "[{'hyper_params': {'random_state': 0},\n",
              "  'is_fitted': False,\n",
              "  'name': 'default_model_for_tests',\n",
              "  'type': 'RandomForestClassifier',\n",
              "  'uid': 1},\n",
              " {'hyper_params': {'random_state': 42},\n",
              "  'is_fitted': False,\n",
              "  'name': 'my_log_reg_clf',\n",
              "  'type': 'LogReg',\n",
              "  'uid': 2}]"
            ]
          },
          "metadata": {},
          "execution_count": 11
        }
      ]
    },
    {
      "cell_type": "markdown",
      "metadata": {
        "id": "A5-P-2tyfhS-"
      },
      "source": [
        "# Удалим ненужную модель"
      ]
    },
    {
      "cell_type": "code",
      "metadata": {
        "colab": {
          "base_uri": "https://localhost:8080/"
        },
        "id": "JFhrHVIKffsP",
        "outputId": "bbb1ce55-1d88-47a2-f415-d66e025409c5"
      },
      "source": [
        "r = requests.delete(SERV_URL+'models/1')\n",
        "print('Удаление успешно?', r.text)\n",
        "r = requests.get(SERV_URL+'models')\n",
        "r.json()"
      ],
      "execution_count": 12,
      "outputs": [
        {
          "output_type": "stream",
          "name": "stdout",
          "text": [
            "Удаление успешно? \"True\"\n",
            "\n"
          ]
        },
        {
          "output_type": "execute_result",
          "data": {
            "text/plain": [
              "[{'hyper_params': {'random_state': 42},\n",
              "  'is_fitted': False,\n",
              "  'name': 'my_log_reg_clf',\n",
              "  'type': 'LogReg',\n",
              "  'uid': 2}]"
            ]
          },
          "metadata": {},
          "execution_count": 12
        }
      ]
    },
    {
      "cell_type": "markdown",
      "metadata": {
        "id": "cj481UAbf94N"
      },
      "source": [
        "# Обучим модель"
      ]
    },
    {
      "cell_type": "code",
      "metadata": {
        "id": "Wweuls7n-gWH"
      },
      "source": [
        "import numpy as np"
      ],
      "execution_count": 13,
      "outputs": []
    },
    {
      "cell_type": "markdown",
      "metadata": {
        "id": "9GAzRiBkgmMq"
      },
      "source": [
        "#### Возьмём тестовый датасет"
      ]
    },
    {
      "cell_type": "code",
      "metadata": {
        "id": "-AR_IynpgB80"
      },
      "source": [
        "from sklearn.datasets import load_iris"
      ],
      "execution_count": 14,
      "outputs": []
    },
    {
      "cell_type": "code",
      "metadata": {
        "id": "uMH4HumLgu5y"
      },
      "source": [
        "X, y = load_iris(return_X_y=True)"
      ],
      "execution_count": 15,
      "outputs": []
    },
    {
      "cell_type": "code",
      "metadata": {
        "id": "SAkPHH55hsCd"
      },
      "source": [
        "data = {\n",
        "    'x':[[float(v) for v in row] for row in X],\n",
        "    'y':[int(v) for v in y]\n",
        "}"
      ],
      "execution_count": 16,
      "outputs": []
    },
    {
      "cell_type": "markdown",
      "metadata": {
        "id": "sfCE5DWLhiJB"
      },
      "source": [
        "#### Обучение"
      ]
    },
    {
      "cell_type": "code",
      "metadata": {
        "colab": {
          "base_uri": "https://localhost:8080/",
          "height": 35
        },
        "id": "oYjXxe6EPT76",
        "outputId": "97574f65-698a-45b4-8d22-1e38ba91fc4c"
      },
      "source": [
        "r = requests.put(SERV_URL+'models/15/fit', json=data)\n",
        "r.text"
      ],
      "execution_count": 17,
      "outputs": [
        {
          "output_type": "execute_result",
          "data": {
            "application/vnd.google.colaboratory.intrinsic+json": {
              "type": "string"
            },
            "text/plain": [
              "'Wrong model`s UID (15)'"
            ]
          },
          "metadata": {},
          "execution_count": 17
        }
      ]
    },
    {
      "cell_type": "markdown",
      "metadata": {
        "id": "Mdk1svjyPYw4"
      },
      "source": [
        "###### ой, ошиблись с uid модели"
      ]
    },
    {
      "cell_type": "code",
      "metadata": {
        "colab": {
          "base_uri": "https://localhost:8080/",
          "height": 35
        },
        "id": "NVJzuNNKgvGs",
        "outputId": "5cfa21cf-a3e5-480a-9fa4-aaeebcf6ded8"
      },
      "source": [
        "r = requests.put(SERV_URL+'models/'+str(my_current_model_id)+'/fit', json=data)\n",
        "r.text"
      ],
      "execution_count": 18,
      "outputs": [
        {
          "output_type": "execute_result",
          "data": {
            "application/vnd.google.colaboratory.intrinsic+json": {
              "type": "string"
            },
            "text/plain": [
              "'fitted model with uid 2'"
            ]
          },
          "metadata": {},
          "execution_count": 18
        }
      ]
    },
    {
      "cell_type": "markdown",
      "metadata": {
        "id": "BM5o_TZV2CvY"
      },
      "source": [
        "#### Посмотрим состояние моделей"
      ]
    },
    {
      "cell_type": "code",
      "metadata": {
        "colab": {
          "base_uri": "https://localhost:8080/"
        },
        "id": "yeoaCvozgvJn",
        "outputId": "6904a2d0-4313-45e3-a67d-1fec1d2064ee"
      },
      "source": [
        "r = requests.get(SERV_URL+'models')\n",
        "r.json()"
      ],
      "execution_count": 19,
      "outputs": [
        {
          "output_type": "execute_result",
          "data": {
            "text/plain": [
              "[{'hyper_params': {'random_state': 42},\n",
              "  'is_fitted': True,\n",
              "  'name': 'my_log_reg_clf',\n",
              "  'type': 'LogReg',\n",
              "  'uid': 2}]"
            ]
          },
          "metadata": {},
          "execution_count": 19
        }
      ]
    },
    {
      "cell_type": "markdown",
      "metadata": {
        "id": "KKxyI9Ws2Nch"
      },
      "source": [
        "# Применим классификатор"
      ]
    },
    {
      "cell_type": "markdown",
      "metadata": {
        "id": "06eJTnhx2XOc"
      },
      "source": [
        "#### Возьмём всё ту же обучающую выборку"
      ]
    },
    {
      "cell_type": "code",
      "metadata": {
        "id": "8T1w3PnP2Mrx"
      },
      "source": [
        "X, y = load_iris(return_X_y=True)"
      ],
      "execution_count": 20,
      "outputs": []
    },
    {
      "cell_type": "code",
      "metadata": {
        "id": "Ykoj-Zvi2MvD"
      },
      "source": [
        "data = {\n",
        "    'x':[[float(v) for v in row] for row in X],\n",
        "    'proba':int(True)\n",
        "}"
      ],
      "execution_count": 21,
      "outputs": []
    },
    {
      "cell_type": "markdown",
      "metadata": {
        "id": "hNGwxlZV2o1L"
      },
      "source": [
        "#### Прогноз"
      ]
    },
    {
      "cell_type": "code",
      "metadata": {
        "id": "2mDR967L2MzP"
      },
      "source": [
        "r = requests.post(SERV_URL+'models/'+str(my_current_model_id)+'/predict', json=data)"
      ],
      "execution_count": 22,
      "outputs": []
    },
    {
      "cell_type": "code",
      "metadata": {
        "colab": {
          "base_uri": "https://localhost:8080/"
        },
        "id": "xns5obBb2u5b",
        "outputId": "d06fa6fa-6926-43ff-816a-c47371de17d2"
      },
      "source": [
        "ans = r.json()\n",
        "preds = np.array(ans['x']).reshape(ans['shape'])\n",
        "preds[:5]"
      ],
      "execution_count": 23,
      "outputs": [
        {
          "output_type": "execute_result",
          "data": {
            "text/plain": [
              "array([[9.81814878e-01, 1.81851076e-02, 1.43958387e-08],\n",
              "       [9.71755199e-01, 2.82447708e-02, 3.01071602e-08],\n",
              "       [9.85463201e-01, 1.45367871e-02, 1.23028833e-08],\n",
              "       [9.76312180e-01, 2.36877799e-02, 3.96557410e-08],\n",
              "       [9.85396842e-01, 1.46031465e-02, 1.19200048e-08]])"
            ]
          },
          "metadata": {},
          "execution_count": 23
        }
      ]
    },
    {
      "cell_type": "markdown",
      "metadata": {
        "id": "oTDcU5rrIzFr"
      },
      "source": [
        "#### Оценим качество"
      ]
    },
    {
      "cell_type": "code",
      "metadata": {
        "id": "KBRtrGw0IItC"
      },
      "source": [
        "from sklearn.metrics import accuracy_score"
      ],
      "execution_count": 24,
      "outputs": []
    },
    {
      "cell_type": "code",
      "metadata": {
        "id": "6ox1dJdfIIwk"
      },
      "source": [
        "data = {\n",
        "    'x':[[float(v) for v in row] for row in X],\n",
        "    'proba':int(False)\n",
        "}"
      ],
      "execution_count": 25,
      "outputs": []
    },
    {
      "cell_type": "code",
      "metadata": {
        "id": "9OMFV5nkI5d3"
      },
      "source": [
        "r = requests.post(SERV_URL+'models/'+str(my_current_model_id)+'/predict', json=data)"
      ],
      "execution_count": 26,
      "outputs": []
    },
    {
      "cell_type": "code",
      "metadata": {
        "colab": {
          "base_uri": "https://localhost:8080/"
        },
        "id": "NPkQOkaVI5h4",
        "outputId": "cf141949-d5fb-4f91-d00b-b6a4b4d2800b"
      },
      "source": [
        "ans = r.json()\n",
        "preds = np.array(ans['x']).reshape(ans['shape'])\n",
        "preds[:5]"
      ],
      "execution_count": 27,
      "outputs": [
        {
          "output_type": "execute_result",
          "data": {
            "text/plain": [
              "array([0., 0., 0., 0., 0.])"
            ]
          },
          "metadata": {},
          "execution_count": 27
        }
      ]
    },
    {
      "cell_type": "code",
      "metadata": {
        "colab": {
          "base_uri": "https://localhost:8080/"
        },
        "id": "kKiqtFeZI5lx",
        "outputId": "b67b3368-ea03-47e3-b6ed-d8daad6755da"
      },
      "source": [
        "accuracy_score(y, preds)"
      ],
      "execution_count": 28,
      "outputs": [
        {
          "output_type": "execute_result",
          "data": {
            "text/plain": [
              "0.9733333333333334"
            ]
          },
          "metadata": {},
          "execution_count": 28
        }
      ]
    },
    {
      "cell_type": "code",
      "metadata": {
        "id": "nW2Fc79vIa8Z"
      },
      "source": [
        ""
      ],
      "execution_count": null,
      "outputs": []
    }
  ]
}